{
  "nbformat": 4,
  "nbformat_minor": 0,
  "metadata": {
    "colab": {
      "name": "egzanp.ipynb",
      "provenance": [],
      "authorship_tag": "ABX9TyM1yLN/0F5geC9ulsLSM6s8",
      "include_colab_link": true
    },
    "kernelspec": {
      "name": "python3",
      "display_name": "Python 3"
    },
    "language_info": {
      "name": "python"
    }
  },
  "cells": [
    {
      "cell_type": "markdown",
      "metadata": {
        "id": "view-in-github",
        "colab_type": "text"
      },
      "source": [
        "<a href=\"https://colab.research.google.com/github/tipanverella/ArchitecturePatterns/blob/main/egzanp.ipynb\" target=\"_parent\"><img src=\"https://colab.research.google.com/assets/colab-badge.svg\" alt=\"Open In Colab\"/></a>"
      ]
    },
    {
      "cell_type": "code",
      "execution_count": 1,
      "metadata": {
        "id": "xQwbl5wA4abM"
      },
      "outputs": [],
      "source": [
        "from IPython.display import YouTubeVideo"
      ]
    },
    {
      "cell_type": "markdown",
      "source": [
        "# Sa a komante\n",
        "\n",
        "$$kare(x) = x^2$$\n",
        "epi \n",
        "$$kub(x) = x^3$$\n",
        "\n",
        "$$\\mathbb{E}\\left[X\\right]$$\n",
        "\n",
        "```latex\n",
        "\\expectation{X}\n",
        "```\n",
        "\n",
        "```sql\n",
        "select * \n",
        "from myTable\n",
        "```\n",
        "\n",
        "![](https://upload.wikimedia.org/wikipedia/commons/thumb/5/56/Flag_of_Haiti.svg/1920px-Flag_of_Haiti.svg.png)"
      ],
      "metadata": {
        "id": "YW0w5oEj41g6"
      }
    },
    {
      "cell_type": "code",
      "source": [
        "def kare(x:float) -> float:\n",
        "    return x*x\n",
        "\n",
        "def kub(x:float) -> float:\n",
        "    return x**3"
      ],
      "metadata": {
        "id": "X7l54zYu5ETA"
      },
      "execution_count": 3,
      "outputs": []
    },
    {
      "cell_type": "code",
      "source": [
        "kare(1.414)"
      ],
      "metadata": {
        "colab": {
          "base_uri": "https://localhost:8080/"
        },
        "id": "6tflxtXM5E2d",
        "outputId": "7d421eec-d6d4-400d-b3c6-0b8a29086d0d"
      },
      "execution_count": 4,
      "outputs": [
        {
          "output_type": "execute_result",
          "data": {
            "text/plain": [
              "1.9993959999999997"
            ]
          },
          "metadata": {},
          "execution_count": 4
        }
      ]
    },
    {
      "cell_type": "code",
      "source": [
        "kub(3)"
      ],
      "metadata": {
        "colab": {
          "base_uri": "https://localhost:8080/"
        },
        "id": "hPhyHcFy5G9s",
        "outputId": "334dfdb7-ab24-4a62-f661-a38217b25d38"
      },
      "execution_count": 5,
      "outputs": [
        {
          "output_type": "execute_result",
          "data": {
            "text/plain": [
              "27"
            ]
          },
          "metadata": {},
          "execution_count": 5
        }
      ]
    },
    {
      "cell_type": "code",
      "source": [
        "YouTubeVideo('VsMefirK_R0', width=600, height=400)"
      ],
      "metadata": {
        "colab": {
          "base_uri": "https://localhost:8080/",
          "height": 421
        },
        "id": "bcjL1WCE5J1F",
        "outputId": "481c79fd-9346-47a2-c197-49455faf8e3f"
      },
      "execution_count": 6,
      "outputs": [
        {
          "output_type": "execute_result",
          "data": {
            "text/plain": [
              "<IPython.lib.display.YouTubeVideo at 0x7f9a7a507490>"
            ],
            "text/html": [
              "\n",
              "        <iframe\n",
              "            width=\"600\"\n",
              "            height=\"400\"\n",
              "            src=\"https://www.youtube.com/embed/VsMefirK_R0\"\n",
              "            frameborder=\"0\"\n",
              "            allowfullscreen\n",
              "        ></iframe>\n",
              "        "
            ],
            "image/jpeg": "[encoded data removed]"
          },
          "metadata": {},
          "execution_count": 6
        }
      ]
    },
    {
      "cell_type": "code",
      "source": [
        ""
      ],
      "metadata": {
        "id": "NiOUu2an5NCF"
      },
      "execution_count": null,
      "outputs": []
    }
  ]
}